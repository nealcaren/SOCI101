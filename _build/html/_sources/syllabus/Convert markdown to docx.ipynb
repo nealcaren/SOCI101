{
 "cells": [
  {
   "cell_type": "code",
   "execution_count": 3,
   "metadata": {},
   "outputs": [],
   "source": [
    "mds = !ls *.md"
   ]
  },
  {
   "cell_type": "code",
   "execution_count": 9,
   "metadata": {},
   "outputs": [],
   "source": [
    "for md in mds:\n",
    "    name = md.split('.')[0]\n",
    "    \n",
    "    !pandoc -s {name}.md -o {name}.docx"
   ]
  },
  {
   "cell_type": "code",
   "execution_count": 11,
   "metadata": {},
   "outputs": [],
   "source": [
    "!pandoc -s staff.docx  -o staff.md"
   ]
  },
  {
   "cell_type": "code",
   "execution_count": 14,
   "metadata": {},
   "outputs": [],
   "source": [
    "faq = '1X7qCbdZdQdFFy4vzOpkwce3VavF5n8P1nzyNhDJrr7A'\n",
    "file_id = faq\n",
    "url = 'https://docs.google.com/document/d/'+ file_id + '/export?format=doc'"
   ]
  },
  {
   "cell_type": "code",
   "execution_count": 15,
   "metadata": {},
   "outputs": [],
   "source": [
    "import requests"
   ]
  },
  {
   "cell_type": "code",
   "execution_count": 16,
   "metadata": {},
   "outputs": [],
   "source": [
    "r = requests.get(url)"
   ]
  },
  {
   "cell_type": "code",
   "execution_count": 25,
   "metadata": {},
   "outputs": [],
   "source": [
    "with open('faq2.docx', 'wb') as outfile:\n",
    "    outfile.write(r.content)\n",
    "    \n",
    "!pandoc -s faq2.docx  -o faq2.md"
   ]
  },
  {
   "cell_type": "code",
   "execution_count": 27,
   "metadata": {},
   "outputs": [
    {
     "data": {
      "text/markdown": [
       "Frequently Asked Questions\n",
       "==========================\n",
       "\n",
       "What's the attendance policy?\n",
       "-----------------------------\n",
       "\n",
       "I expected everyone to participate during our virtual meetings actively.\n",
       "Watching the films together is a central component of this course. If\n",
       "you are unable to attend, you may write a more extended film response\n",
       "and submit your film notes for that week's Film Response assignment on\n",
       "Sakai. Except for the exams, I drop one or more of the lowest grades for\n",
       "each assignment type.\n",
       "\n",
       "How do I prepare for an exam?\n",
       "-----------------------------\n",
       "\n",
       "The exams are multiple-choice and administered on Sakai. There are three\n",
       "major types of questions. The first set of questions are similar to\n",
       "those on InQuizitive, so practice there. The lesson key words cover what\n",
       "I think are the core concepts in each chapter, so these are particularly\n",
       "important to know. The second type of question is similar to Case\n",
       "Studies, so be sure to practice and review your approach. There is a\n",
       "Case Study due each exam week, so be sure to complete it before the\n",
       "exam, so you have that additional opportunity to practice. Finally,\n",
       "there will be questions that ask you to make connections between the\n",
       "films and course concepts. They don't require detailed knowledge of each\n",
       "scene, but be sure to be familiar with the major themes of each film\n",
       "shown.\n",
       "\n",
       "I can't make it to the exam. What can I do?\n",
       "-------------------------------------------\n",
       "\n",
       "**Details to come.**\n",
       "\n",
       "Why does this class have a {doc}code-of-conduct?\n",
       "------------------------------------------------\n",
       "\n",
       "I intend that students from all diverse backgrounds and perspectives be\n",
       "well served by this course, that students' learning needs be addressed\n",
       "both in and out of class, and that the diversity that students bring to\n",
       "this class be viewed as a resource, strength, and benefit. I intend to\n",
       "present materials and activities that are respectful of diversity:\n",
       "gender, sexuality, disability, age, socioeconomic status, ethnicity,\n",
       "race, and culture. The topics that we're covering in this class are\n",
       "often difficult, not just intellectually but emotionally. While I expect\n",
       "there to be rigorous discussion and even disagreement in the course of\n",
       "our class discussions, I ask that you engage in dialogue with care and\n",
       "empathy for the other members in the classroom. Aim to disagree without\n",
       "becoming disagreeable. In this course, we will not shy away from the\n",
       "uncomfortable. Critically examining and assessing assumptions and values\n",
       "is not just one of sociology's tasks but is an activity vital to engaged\n",
       "citizenship. I will work to ensure a classroom environment that supports\n",
       "your taking these intellectual and emotional risks. The\n",
       "{doc}code-of-conduct helps ensure that everyone is aware of the types of\n",
       "interactions that foster positive interactions and those that may not.\n",
       "\n",
       "Can I hand in work late?\n",
       "------------------------\n",
       "\n",
       "No, but for each non-exam assignment, you can drop your lowest grade(s).\n",
       "Skipped assignments receive a zero, but as long as you do at least the\n",
       "minimum number of required assignments of that type, the zero won't\n",
       "impact your final grade. If you have a medical condition or other\n",
       "situation that impacts your ability to do academic work, such as a\n",
       "concussion or hospitalization, please email the instructor to make\n",
       "alternate arrangements.\n",
       "\n",
       "Where can I get extra help with sociological concepts?\n",
       "------------------------------------------------------\n",
       "\n",
       "Learning online can be tougher than in a traditional classroom.\n",
       "**Details to come.**\n",
       "\n",
       "What other campus resources can help me?\n",
       "----------------------------------------\n",
       "\n",
       "The [[Writing Center ]{.ul}](https://writingcenter.unc.edu)is available\n",
       "to assist with papers. If you experience an emergency this semester,\n",
       "please contact the[[ Dean of Students\n",
       "Office]{.ul}](https://odos.unc.edu). They will notify all of your\n",
       "instructors so that you will not have to. [**[Student\n",
       "Wellness]{.ul}**](https://studentwellness.unc.edu/) You have paid for\n",
       "all of these excellent resources. Please use them!\n",
       "\n",
       "Do academic integrity policies still apply to an online course?\n",
       "---------------------------------------------------------------\n",
       "\n",
       "Yes. The University of North Carolina at Chapel Hill has had a\n",
       "student-led honor system for over 100 years. Academic integrity is at\n",
       "the heart of Carolina, and we all are responsible for upholding the\n",
       "ideals of honor and integrity. The student-led Honor System is\n",
       "responsible for adjudicating any suspected violations of the Honor Code,\n",
       "and all suspected instances of academic dishonesty will be reported to\n",
       "the honor system. Information, including your responsibilities as a\n",
       "student, is outlined in the Instrument of Student Judicial Governance.\n",
       "Your full participation and observance of the Honor Code is expected.\n",
       "All academic work in this course, including homework, quizzes, and\n",
       "exams, is to be your own work, unless otherwise expressly provided. It\n",
       "is your responsibility if you have any doubt to confirm whether or not\n",
       "collaboration is permitted.\n",
       "\n",
       "How can I get accommodations?\n",
       "-----------------------------\n",
       "\n",
       "The University of North Carolina at Chapel Hill facilitates the\n",
       "implementation of reasonable accommodations, including resources and\n",
       "services, for students with disabilities, chronic medical conditions,\n",
       "temporary disability, or pregnancy complications resulting in\n",
       "difficulties with accessing learning opportunities. All accommodations\n",
       "are coordinated through the Accessibility Resources and Service Office.\n",
       "If you are registered with ARS, be sure to confirm with me or the TA\n",
       "that we have received your accommodation request.\n",
       "\n",
       "How is the final grade determined?\n",
       "----------------------------------\n",
       "\n",
       "The final grade is based on the following elements:\n",
       "\n",
       "  Assignment       Opportunities   Graded   \\% of Course Grade\n",
       "  ---------------- --------------- -------- --------------------\n",
       "  Applications     7               5        20\n",
       "  Case Studies     6               5        15\n",
       "  InQuizitive      12              10       15\n",
       "  Film Responses   12              10       15\n",
       "  Exam 1           1               1        10\n",
       "  Exam 2           1               1        10\n",
       "  Exam 3           1               1        15\n",
       "                                            \n",
       "                                            100\n",
       "\n",
       "All grading takes place on Sakai and you can find your current grade in\n",
       "the Sakai Gradebook.\n",
       "\n",
       "Do you round up?\n",
       "----------------\n",
       "\n",
       "No. Your final letter grade will be converted from your numeric score as\n",
       "follows:\n",
       "\n",
       "94% to 100% = A\n",
       "\n",
       "\\- 90% to 93.99% = A-\n",
       "\n",
       "\\- 87% to 89.99% = B+\n",
       "\n",
       "\\- 84% to 86.99% = B\n",
       "\n",
       "\\- 80% to 83.99% = B-\n",
       "\n",
       "\\- 77% to 79.99% = C+\n",
       "\n",
       "\\- 74% to 76.99% = C\n",
       "\n",
       "\\- 70% to 73.99% = C-\n",
       "\n",
       "\\- 67% to 69.99% = D+\n",
       "\n",
       "\\- 64% to 66.99% = D\n",
       "\n",
       "\\- 60% to 63.99% = D-\n",
       "\n",
       "\\- 59.99% or below = F\n"
      ],
      "text/plain": [
       "<IPython.core.display.Markdown object>"
      ]
     },
     "execution_count": 27,
     "metadata": {},
     "output_type": "execute_result"
    }
   ],
   "source": [
    "from IPython.display import Markdown\n",
    "\n",
    "with open('faq2.md', 'r') as infile:\n",
    "    md = infile.read()\n",
    "    \n",
    "Markdown(md)"
   ]
  },
  {
   "cell_type": "code",
   "execution_count": 24,
   "metadata": {},
   "outputs": [
    {
     "name": "stdout",
     "output_type": "stream",
     "text": [
      "/Users/nealcaren/Documents/GitHub/SOCI101/syllabus\r\n"
     ]
    }
   ],
   "source": [
    "!pwd"
   ]
  },
  {
   "cell_type": "code",
   "execution_count": null,
   "metadata": {},
   "outputs": [],
   "source": []
  }
 ],
 "metadata": {
  "kernelspec": {
   "display_name": "Python 3",
   "language": "python",
   "name": "python3"
  },
  "language_info": {
   "codemirror_mode": {
    "name": "ipython",
    "version": 3
   },
   "file_extension": ".py",
   "mimetype": "text/x-python",
   "name": "python",
   "nbconvert_exporter": "python",
   "pygments_lexer": "ipython3",
   "version": "3.8.3"
  }
 },
 "nbformat": 4,
 "nbformat_minor": 4
}
